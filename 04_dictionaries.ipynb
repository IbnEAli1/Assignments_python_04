{
  "nbformat": 4,
  "nbformat_minor": 0,
  "metadata": {
    "colab": {
      "provenance": [],
      "authorship_tag": "ABX9TyNr6A9zbXfrPKtLsrdE/uJN",
      "include_colab_link": true
    },
    "kernelspec": {
      "name": "python3",
      "display_name": "Python 3"
    },
    "language_info": {
      "name": "python"
    }
  },
  "cells": [
    {
      "cell_type": "markdown",
      "metadata": {
        "id": "view-in-github",
        "colab_type": "text"
      },
      "source": [
        "<a href=\"https://colab.research.google.com/github/IbnEAli1/Assignments_python_04/blob/main/04_dictionaries.ipynb\" target=\"_parent\"><img src=\"https://colab.research.google.com/assets/colab-badge.svg\" alt=\"Open In Colab\"/></a>"
      ]
    },
    {
      "cell_type": "code",
      "execution_count": null,
      "metadata": {
        "colab": {
          "base_uri": "https://localhost:8080/"
        },
        "id": "YCKAUq3-AZRG",
        "outputId": "f04e591e-911a-4446-ad2e-1bcc561b6923"
      },
      "outputs": [
        {
          "name": "stdout",
          "output_type": "stream",
          "text": [
            "Enter a number (or Exit to quit): 23\n",
            "Enter a number (or Exit to quit): 23\n",
            "Enter a number (or Exit to quit): 56\n"
          ]
        }
      ],
      "source": [
        "\"\"\"00_count_nums\"\"\"\n",
        "\n",
        "def count_numbers():\n",
        "    count_dicts = {}\n",
        "\n",
        "    while True:\n",
        "        num = input(\"Enter a number (or Exit to quit): \")\n",
        "        if num.title() == \"Exit\":\n",
        "            break\n",
        "        if num.isdigit():\n",
        "            count_dicts[num] = count_dicts.get(num, 0) + 1\n",
        "        else:\n",
        "            print(\"Invalid input. Please enter a number or Exit.\")\n",
        "\n",
        "    return count_dicts  # <-- Yeh ab loop ke bahar hai\n",
        "\n",
        "def display_count(count_dicts):\n",
        "    print(\"\\nNumber counts:\")\n",
        "    for key, value in count_dicts.items():\n",
        "        print(f\"{key} appears {value} times\")\n",
        "\n",
        "if __name__ == \"__main__\":\n",
        "    counts = count_numbers()\n",
        "    display_count(counts)"
      ]
    },
    {
      "cell_type": "code",
      "source": [
        "\"\"\"01_phonebook\"\"\"\n",
        "\n",
        "def add_contacts(phonebook):\n",
        "    name = input(\"Enter contact name: \")\n",
        "    number = input(\"Enter contact number: \")\n",
        "\n",
        "    if name in phonebook:\n",
        "        print(f\"{name} already exists in the phonebook.\")\n",
        "    else:\n",
        "        phonebook[name] = number\n",
        "        print(f\"{name} added to phonebook.\")\n",
        "\n",
        "def search_contact(phonebook):\n",
        "    name = input(\"Enter contact name to search: \")\n",
        "    if name in phonebook:\n",
        "        print(f\"{name}: {phonebook[name]}\")\n",
        "    else:\n",
        "        print(f\"{name} not found in the phonebook.\")\n",
        "\n",
        "def delete_contact(phonebook):\n",
        "    name = input(\"Enter contact name to delete: \")\n",
        "    if name in phonebook:\n",
        "        del phonebook[name]\n",
        "        print(f\"{name} deleted from phonebook.\")\n",
        "    else:\n",
        "        print(f\"{name} not found in the phonebook.\")\n",
        "\n",
        "def display_contacts(phonebook):\n",
        "    if phonebook:\n",
        "        print(\"Phonebook Contacts list:\")\n",
        "        for name, number in phonebook.items():\n",
        "            print(f\"{name}: {number}\")\n",
        "    else:\n",
        "        print(\"Phonebook is empty.\")\n",
        "\n",
        "if __name__ == \"__main__\":\n",
        "    phonebook = {}\n",
        "\n",
        "    while True:\n",
        "        print(\"\\nPhonebook Menu:\")\n",
        "        print(\"1. Add Contact\")\n",
        "        print(\"2. Search Contact\")\n",
        "        print(\"3. Delete Contact\")\n",
        "        print(\"4. Display Contacts\")\n",
        "        print(\"5. Exit\")\n",
        "\n",
        "        choice = input(\"Enter your choice (1-5 ): \")\n",
        "\n",
        "        if choice == '1':\n",
        "            add_contacts(phonebook)\n",
        "        elif choice == '2':\n",
        "            search_contact(phonebook)\n",
        "        elif choice == '3':\n",
        "            delete_contact(phonebook)\n",
        "        elif choice == '4':\n",
        "            display_contacts(phonebook)\n",
        "        elif choice == '5':\n",
        "            print(\"Exiting phonebook. Goodbye!\")\n",
        "            break\n",
        "        else:\n",
        "            print(\"Invalid choice. Please enter a number between 1 to 5.\")"
      ],
      "metadata": {
        "id": "IbClxcIKArVS"
      },
      "execution_count": null,
      "outputs": []
    },
    {
      "cell_type": "code",
      "source": [
        "\"\"\"02_pop_up_shop\"\"\"\n",
        "\n",
        "def calculate_toatal_cost():\n",
        "    fruits_price = {\n",
        "        \"apple\": 5.0,\n",
        "        \"mango\": 15.0,\n",
        "        \"kiwi\": 8.0,\n",
        "        \"pear\": 12.0,\n",
        "        \"banana\": 6.0,\n",
        "        \"orange\": 10.0,\n",
        "    }\n",
        "\n",
        "    total_cost = 0\n",
        "\n",
        "    for fruit, price in fruits_price.items():\n",
        "        while True:\n",
        "            try:\n",
        "                quantity = int(input(f\"How many {fruit} do you want?: \"))\n",
        "                if quantity < 0:\n",
        "                    print(\"Invalid input. Please enter a non-negative number.\")\n",
        "                    continue\n",
        "                total_cost += price * quantity\n",
        "                break\n",
        "            except ValueError:\n",
        "                print(\"Invalid input. Please enter a valid number.\")\n",
        "\n",
        "        print(f\"\\n Your total cost is: ${total_cost:.2f}\")\n",
        "if __name__ == \"__main__\":\n",
        "    calculate_toatal_cost()\n",
        ""
      ],
      "metadata": {
        "id": "f_y18m2bBAt7"
      },
      "execution_count": null,
      "outputs": []
    },
    {
      "cell_type": "code",
      "source": [
        "\"\"\"03_powerful_passwords\"\"\"\n",
        "\n",
        "import hashlib\n",
        "\n",
        "def hash_password(password):\n",
        "    return hashlib.sha256(password.encode()).hexdigest()\n",
        "\n",
        "stored_logins = {\n",
        "    \"user@gmail.com\": hash_password(\"password123\"),\n",
        "    \"admin@gmail.com\": hash_password(\"adminpass\"),\n",
        "}\n",
        "\n",
        "def login(mail, password):\n",
        "    if email in stored_logins:\n",
        "        return stored_logins[mail] == hash_password(password)\n",
        "    return False\n",
        "\n",
        "if __name__ == \"__main__\":\n",
        "    email = input(\"Enter your email: \")\n",
        "    password = input(\"Enter your password: \")\n",
        "\n",
        "    if login(email, password):\n",
        "        print(\"Login successful!\")\n",
        "    else:\n",
        "        print(\"Invalid email or password.\")"
      ],
      "metadata": {
        "id": "ggmAK510BGRP"
      },
      "execution_count": null,
      "outputs": []
    }
  ]
}