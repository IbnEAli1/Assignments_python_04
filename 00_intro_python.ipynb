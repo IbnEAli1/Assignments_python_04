{
  "nbformat": 4,
  "nbformat_minor": 0,
  "metadata": {
    "colab": {
      "provenance": [],
      "authorship_tag": "ABX9TyNflmuXbXmrRHS6Zc5wq03a",
      "include_colab_link": true
    },
    "kernelspec": {
      "name": "python3",
      "display_name": "Python 3"
    },
    "language_info": {
      "name": "python"
    }
  },
  "cells": [
    {
      "cell_type": "markdown",
      "metadata": {
        "id": "view-in-github",
        "colab_type": "text"
      },
      "source": [
        "<a href=\"https://colab.research.google.com/github/IbnEAli1/00_intro_python/blob/main/00_intro_python.ipynb\" target=\"_parent\"><img src=\"https://colab.research.google.com/assets/colab-badge.svg\" alt=\"Open In Colab\"/></a>"
      ]
    },
    {
      "cell_type": "code",
      "execution_count": null,
      "metadata": {
        "colab": {
          "base_uri": "https://localhost:8080/"
        },
        "id": "V75sx33cKgUq",
        "outputId": "b763fdec-7d88-4bae-a2f6-fe437c785ffe"
      },
      "outputs": [
        {
          "output_type": "stream",
          "name": "stdout",
          "text": [
            "Lets add two number together,Let's Start\n",
            "What is the first number in your mind?24365\n",
            "What is the second number in your mind?57245726\n",
            "Your 1st Number is '24365' & 2nd Number is '57245726 '\n",
            "Wao, Here you go.'57270091'\n"
          ]
        }
      ],
      "source": [
        "\"\"\"01_add_two_numbers\"\"\"\n",
        "\n",
        "def add():\n",
        "  print(\"Lets add two number together,Let's Start\")\n",
        "  first_number = int(input(\"What is the first number in your mind?\"))\n",
        "  second_number = int(input(\"What is the second number in your mind?\"))\n",
        "  total = int(first_number + second_number)\n",
        "  print(f\"Your 1st Number is '{first_number}' & 2nd Number is '{second_number} '\\nWao, Here you go.'{total}'\")\n",
        "\n",
        "if __name__ == '__main__':\n",
        "    add()"
      ]
    },
    {
      "cell_type": "code",
      "source": [
        "\"\"\"02_agreement_bot\"\"\"\n",
        "\n",
        "def favorite_animal():\n",
        "  print(\"We will ask about your favorites.\")\n",
        "  Q1 = str(input(\"Which animal is your favorite?\"))\n",
        "  print(f\"My favorite animal is '\\033[1;3m{Q1}\\033[0m'.\")\n",
        "\n",
        "  \"\"\"\n",
        "  \\033[1;3m → Turns on bold and italic text.\n",
        "  \\033[0m → Resets text formatting.\n",
        "  \"\"\"\n",
        "\n",
        "if __name__ == '__main__':\n",
        "    favorite_animal()"
      ],
      "metadata": {
        "colab": {
          "base_uri": "https://localhost:8080/"
        },
        "id": "lZmNbXwtPlTN",
        "outputId": "3d89fa1e-afac-482a-89ce-b7ea84410212"
      },
      "execution_count": null,
      "outputs": [
        {
          "output_type": "stream",
          "name": "stdout",
          "text": [
            "We will ask about your favorites.\n",
            "Which animal is your favorite?owl\n",
            "My favorite animal is '\u001b[1;3mowl\u001b[0m'.\n"
          ]
        }
      ]
    },
    {
      "cell_type": "code",
      "source": [
        "\"\"\"03_fahrenheit_to_celsius\"\"\"\n",
        "\n",
        "\n",
        "def fahrenheit_to_celsius():\n",
        "  print(\"Here we convert fahrenheit to celsius.let's Start\")\n",
        "  fah = float(input(\"tell me your fahrenheit?\"))\n",
        "  cel = float((fah - 32)  * (5.0/9.0))\n",
        "  print(f\"Wao, Here is your result \\033[1;3m{cel}\\033[0m.\")\n",
        "\n",
        "if __name__ == '__main__':\n",
        "    fahrenheit_to_celsius()"
      ],
      "metadata": {
        "colab": {
          "base_uri": "https://localhost:8080/"
        },
        "id": "GlxRuyuHRsGS",
        "outputId": "628f9390-7568-4e82-aad7-723c0d1820f7"
      },
      "execution_count": null,
      "outputs": [
        {
          "output_type": "stream",
          "name": "stdout",
          "text": [
            "Here we convert fahrenheit to celsius.let's Start\n",
            "tell me your fahrenheit?23\n",
            "Wao, Here is your result \u001b[1;3m-5.0\u001b[0m.\n"
          ]
        }
      ]
    },
    {
      "cell_type": "code",
      "source": [
        "\"\"\"04_how_old_are_they\"\"\"\n",
        "\n",
        "def ages():\n",
        "    anton : int = 21\n",
        "    beth : int = 6 + anton\n",
        "    chen : int = 20 + beth\n",
        "    drew  : int= chen + anton\n",
        "    ethan : int = chen\n",
        "    print(\"Anton is \" + str(anton))\n",
        "    print(\"Beth is \" + str(beth))\n",
        "    print(\"Chen is \" + str(chen))\n",
        "    print(\"Drew is \" + str(drew))\n",
        "    print(\"Ethan is \" + str(ethan))\n",
        "\n",
        "if __name__ == '__main__':\n",
        "    ages()\n"
      ],
      "metadata": {
        "colab": {
          "base_uri": "https://localhost:8080/"
        },
        "id": "baHfCjipdK2p",
        "outputId": "3fe3d7f1-7c3a-463d-ac72-2c926823d738"
      },
      "execution_count": null,
      "outputs": [
        {
          "output_type": "stream",
          "name": "stdout",
          "text": [
            "Anton is 21\n",
            "Beth is 27\n",
            "Chen is 47\n",
            "Drew is 68\n",
            "Ethan is 47\n"
          ]
        }
      ]
    },
    {
      "cell_type": "code",
      "source": [
        "\"\"\"05_triangle_perimeter\"\"\"\n",
        "\n",
        "def triangle_perimeter():\n",
        "    side1 = int(input(\"What is the length of side 1?\"))\n",
        "    side2 = int(input(\"What is the length of side 2?\"))\n",
        "    side3 = int(input(\"What is the length of side 3?\"))\n",
        "    print(f\"The perimeter of the triangle is : \\033[1;3m{side1 + side2+ side3}\\033[0m \")\n",
        "\n",
        "if __name__ == '__main__':\n",
        "    triangle_perimeter()"
      ],
      "metadata": {
        "colab": {
          "base_uri": "https://localhost:8080/"
        },
        "id": "k4zk_3uverIJ",
        "outputId": "b2b3579c-1df8-4bf6-d1b6-4ae840edfda8"
      },
      "execution_count": null,
      "outputs": [
        {
          "output_type": "stream",
          "name": "stdout",
          "text": [
            "What is the length of side 1?56\n",
            "What is the length of side 2?67\n",
            "What is the length of side 3?909\n",
            "The perimeter of the triangle is : \u001b[1;3m1032\u001b[0m \n"
          ]
        }
      ]
    },
    {
      "cell_type": "code",
      "source": [
        "\"\"\"06_square_number\"\"\"\n",
        "\n",
        "def square():\n",
        "    num = int(input(\"Type a number to see its square:\"))\n",
        "    print(f\"{num} squared is : \\033[1;3m{num*num}\\033[0m \")\n",
        "\n",
        "if __name__ == '__main__':\n",
        "    square()"
      ],
      "metadata": {
        "colab": {
          "base_uri": "https://localhost:8080/"
        },
        "id": "RZQyH8vQgpMi",
        "outputId": "bfb77d7b-9177-4e69-f134-43ecfdaf186b"
      },
      "execution_count": null,
      "outputs": [
        {
          "output_type": "stream",
          "name": "stdout",
          "text": [
            "Type a number to see its square:23\n",
            "23 squared is : \u001b[1;3m529\u001b[0m \n"
          ]
        }
      ]
    },
    {
      "cell_type": "markdown",
      "source": [],
      "metadata": {
        "id": "cDJnRzmtK555"
      }
    }
  ]
}