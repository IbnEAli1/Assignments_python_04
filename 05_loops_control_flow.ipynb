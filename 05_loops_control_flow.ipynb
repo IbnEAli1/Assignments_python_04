{
  "nbformat": 4,
  "nbformat_minor": 0,
  "metadata": {
    "colab": {
      "provenance": [],
      "authorship_tag": "ABX9TyMrp0iwdqzV9iLo05jXUONa",
      "include_colab_link": true
    },
    "kernelspec": {
      "name": "python3",
      "display_name": "Python 3"
    },
    "language_info": {
      "name": "python"
    }
  },
  "cells": [
    {
      "cell_type": "markdown",
      "metadata": {
        "id": "view-in-github",
        "colab_type": "text"
      },
      "source": [
        "<a href=\"https://colab.research.google.com/github/IbnEAli1/Assignments_python_04/blob/main/05_loops_control_flow.ipynb\" target=\"_parent\"><img src=\"https://colab.research.google.com/assets/colab-badge.svg\" alt=\"Open In Colab\"/></a>"
      ]
    },
    {
      "cell_type": "code",
      "execution_count": null,
      "metadata": {
        "id": "tvqhPifbBfmo"
      },
      "outputs": [],
      "source": [
        "\"\"\"00_guess_my_number\"\"\"\n",
        "\n",
        "import random\n",
        "\n",
        "def main():\n",
        "    secret = random.randint(1, 99)\n",
        "    guess = int(input(\"Enter a guess: \"))\n",
        "    print(\"I'm thinking of a number between 0 and 99.\")\n",
        "    while True:\n",
        "        if guess < secret:\n",
        "            print(\"Yout guess is too low\")\n",
        "        elif guess > secret:\n",
        "            print(\"Your guess is too high\")\n",
        "        else:\n",
        "            print(f\"Congrats! The number was: {secret}\")\n",
        "            break\n",
        "\n",
        "        guess = int(input(\"Enter a new number: \"))\n",
        "\n",
        "if __name__ == \"__main__\":\n",
        "    main()"
      ]
    },
    {
      "cell_type": "code",
      "source": [
        "\"\"\"01_fibonacci\"\"\"\n",
        "\n",
        "max_value = 1000\n",
        "\n",
        "def main():\n",
        "    a, b = 0, 1\n",
        "    print(a,b end=\", \")\n",
        "    while True:\n",
        "        c = a + b\n",
        "        if c >= max_value:\n",
        "            break\n",
        "        print(c, end=\", \")\n",
        "        a, b = b, c\n",
        "\n",
        "if name == \"__main__\":\n",
        "    main()"
      ],
      "metadata": {
        "id": "lhFtlE6wBnnm"
      },
      "execution_count": null,
      "outputs": []
    },
    {
      "cell_type": "code",
      "source": [
        "\"\"\"02_print_events\"\"\"\n",
        "\n",
        "def main():\n",
        "    for i in range(20):\n",
        "        print(i * 2)\n",
        "if __name__ == \"__main__\":\n",
        "    main()"
      ],
      "metadata": {
        "id": "UPq7mwMWBvay"
      },
      "execution_count": null,
      "outputs": []
    },
    {
      "cell_type": "code",
      "source": [
        "\"\"\"03_wholesome_machine\"\"\"\n",
        "\n",
        "correct_affirmation = \"I am capable of doing anything I put my mind to.\"\n",
        "\n",
        "def main():\n",
        "    while True:\n",
        "        user_input = input(\"Please type the following affirmation:\" + correct_affirmation)\n",
        "        if user_input == correct_affirmation:\n",
        "            print(\"That's right!\")\n",
        "            break\n",
        "        else:\n",
        "            print(\"That's not right! Please try again.\")\n",
        "\n",
        "if __name__ == \"__main__\":\n",
        "    main()"
      ],
      "metadata": {
        "id": "KBa7vlYYB2gM"
      },
      "execution_count": null,
      "outputs": []
    },
    {
      "cell_type": "code",
      "source": [
        "\"\"\"04_liftoff\"\"\"\n",
        "\n",
        "def main():\n",
        "    for i in range(10, 0, -1):\n",
        "        print(i, end=\" \")\n",
        "    print(\"Liftoff!\")\n",
        "\n",
        "if __name__ == \"__main__\":\n",
        "    main()"
      ],
      "metadata": {
        "id": "G-wVy4D8B9UM"
      },
      "execution_count": null,
      "outputs": []
    },
    {
      "cell_type": "code",
      "source": [
        "\"\"\"05_double_it\"\"\"\n",
        "\n",
        "def main():\n",
        "    user_value = int(input(\"Enter a number: \"))\n",
        "    while user_value < 100:\n",
        "        user_value = user_value * 2\n",
        "        print(user_value, end = \" \")\n",
        "\n",
        "if __name__ == \"__main__\":\n",
        "    main()"
      ],
      "metadata": {
        "id": "gnuejstbCEtW"
      },
      "execution_count": null,
      "outputs": []
    }
  ]
}