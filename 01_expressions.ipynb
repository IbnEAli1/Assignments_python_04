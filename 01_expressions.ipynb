{
  "nbformat": 4,
  "nbformat_minor": 0,
  "metadata": {
    "colab": {
      "provenance": [],
      "authorship_tag": "ABX9TyPaUvQsWRNMHMlVuP2ROi2I",
      "include_colab_link": true
    },
    "kernelspec": {
      "name": "python3",
      "display_name": "Python 3"
    },
    "language_info": {
      "name": "python"
    }
  },
  "cells": [
    {
      "cell_type": "markdown",
      "metadata": {
        "id": "view-in-github",
        "colab_type": "text"
      },
      "source": [
        "<a href=\"https://colab.research.google.com/github/IbnEAli1/homework_projects_intro_py00/blob/main/01_expressions.ipynb\" target=\"_parent\"><img src=\"https://colab.research.google.com/assets/colab-badge.svg\" alt=\"Open In Colab\"/></a>"
      ]
    },
    {
      "cell_type": "code",
      "execution_count": null,
      "metadata": {
        "colab": {
          "base_uri": "https://localhost:8080/"
        },
        "id": "jDwYndI2q_cC",
        "outputId": "adb4e5a2-ac57-4da2-ed65-e8f4fb89e739"
      },
      "outputs": [
        {
          "output_type": "stream",
          "name": "stdout",
          "text": [
            "dice in main() starts as: 10\n",
            "Total of two dice: 7\n",
            "Total of two dice: 3\n",
            "Total of two dice: 7\n",
            "dice1 in main() is: 10\n"
          ]
        }
      ],
      "source": [
        "\"\"\"01_dicesimulator\"\"\"\n",
        "\n",
        "import random\n",
        "#randam ek aisa variable hai jis say hum muktafil result ly sakte hain\n",
        "\n",
        "dice_sides = 6\n",
        "\n",
        "#Ek daice k 6 sides hothy hai jabhi ya varibale bana hum ny\n",
        "def roll_dice():\n",
        "#random integer ko hum randint khty hai ya function hota hai.jo python ka built-in random module hota hai\n",
        "    dice1: int = random.randint(1, dice_sides)\n",
        "    dice2: int = random.randint(1, dice_sides)\n",
        "    total: int = dice1 + dice2\n",
        "    print(\"Total of two dice:\", total)\n",
        "\n",
        "def main():\n",
        "    dice1: int = 10\n",
        "    print(\"dice in main() starts as: \" + str(dice1))\n",
        "    roll_dice()\n",
        "    roll_dice()\n",
        "    roll_dice()\n",
        "    print(\"dice1 in main() is: \" + str(dice1))\n",
        "\n",
        "if __name__ == '__main__':\n",
        "    main()"
      ]
    },
    {
      "cell_type": "code",
      "source": [
        "\"\"\"02_e=mc2\"\"\"\n",
        "\n",
        "C: int = 299792458  # The speed of light in m/s\n",
        "\n",
        "def main():\n",
        "    mass_in_kg: float = float(input(\"Enter kilos of mass: \"))\n",
        "\n",
        "    # Calculate energy\n",
        "    # equivalently energy = mass * (C ** 2)\n",
        "    # using the ** operator to raise C to the power of 2\n",
        "    energy_in_joules: float = mass_in_kg * (C ** 2)\n",
        "\n",
        "    # Display work to the user\n",
        "    print(\"e = m * C^2\")\n",
        "    print(\"m = \" + str(mass_in_kg) + \" kg\")\n",
        "    print(\"C = \" + str(C) + \" m/s\")\n",
        "\n",
        "    print(str(energy_in_joules) + \" joules of energy!\")\n",
        "\n",
        "\n",
        "# There is no need to edit code beyond this point\n",
        "\n",
        "if __name__ == '__main__':\n",
        "    main()"
      ],
      "metadata": {
        "id": "dgxNLgjr6KOJ",
        "outputId": "f906a665-9424-4014-a8ce-70d06ea35ed9",
        "colab": {
          "base_uri": "https://localhost:8080/"
        }
      },
      "execution_count": null,
      "outputs": [
        {
          "output_type": "stream",
          "name": "stdout",
          "text": [
            "Enter kilos of mass: 13\n",
            "e = m * C^2...\n",
            "m = 13.0 kg\n",
            "C = 299792458 m/s\n",
            "1.168381732357863e+18 joules of energy!\n"
          ]
        }
      ]
    },
    {
      "cell_type": "code",
      "source": [
        "\"\"\"03_feet_to_inches\"\"\"\n",
        "inches_1_feet = 12  # 1 foot barabar hai 12 inches kay\n",
        "\n",
        "def feet_to_inches():\n",
        "    feet = float(input(\"write feets: \"))\n",
        "    inches = feet * inches_1_feet\n",
        "    print(f\"Total feets {feet} convert into {inches} inches!\")\n",
        "\n",
        "if __name__ == '__main__':\n",
        "    feet_to_inches()"
      ],
      "metadata": {
        "id": "RoPZwLngr2eJ",
        "colab": {
          "base_uri": "https://localhost:8080/"
        },
        "outputId": "a7f85559-344d-46e6-b902-8dc52a1c8a62"
      },
      "execution_count": null,
      "outputs": [
        {
          "output_type": "stream",
          "name": "stdout",
          "text": [
            "write feets: 134\n",
            "Total feets 134.0 convert into 1608.0 inches!\n"
          ]
        }
      ]
    },
    {
      "cell_type": "code",
      "source": [
        "\"\"\"04_pythagorem_theorem\"\"\"\n",
        "import math\n",
        "\n",
        "def pythagorem_theorem():\n",
        "    ab = float(input(\"\\033[1m\\033[3mEnter the length of AB:\\033[0m \"))\n",
        "    ac = float(input(\"\\033[1m\\033[3mEnter the length of AC:\\033[0m \"))\n",
        "\n",
        "    bc = math.sqrt(ab**2 + ac**2)\n",
        "\n",
        "    print(f\"The length of BC (the hypotenuse) is: {bc}\")\n",
        "\n",
        "if __name__ == '__main__':\n",
        "    pythagorem_theorem()"
      ],
      "metadata": {
        "colab": {
          "base_uri": "https://localhost:8080/"
        },
        "id": "Ci4_X1bjtknx",
        "outputId": "ea51656b-75b8-4c8f-817c-6a2800969629"
      },
      "execution_count": null,
      "outputs": [
        {
          "output_type": "stream",
          "name": "stdout",
          "text": [
            "\u001b[1m\u001b[3mEnter the length of AB:\u001b[0m 12\n",
            "\u001b[1m\u001b[3mEnter the length of AC:\u001b[0m 3\n",
            "The length of BC (the hypotenuse) is: 12.36931687685298\n"
          ]
        }
      ]
    },
    {
      "cell_type": "code",
      "source": [
        "\"\"\"05_reminder_division\"\"\"\n",
        "\n",
        "import math\n",
        "\n",
        "def reminder_division():\n",
        "  divisor = float(input(\"\\033[1;3mEnter divisor:\\033[0m \"))\n",
        "  divided_by = float(input(\"\\033[1;3mEnter number divided by:\\033[0m \"))\n",
        "  quotient = divided_by / divisor\n",
        "  reminder = divided_by  % divisor\n",
        "  print(f\"Here, divisor is {divisor} & divided by {divided_by},so the quotient is {quotient} and reminder is {reminder} .\")\n",
        "\n",
        "if __name__ == '__main__':\n",
        "  reminder_division()"
      ],
      "metadata": {
        "colab": {
          "base_uri": "https://localhost:8080/"
        },
        "id": "Cd_puRl71h5n",
        "outputId": "ccc4b68c-97de-4660-816f-5a1b941676bf"
      },
      "execution_count": 6,
      "outputs": [
        {
          "output_type": "stream",
          "name": "stdout",
          "text": [
            "\u001b[1;3mEnter divisor:\u001b[0m 23\n",
            "\u001b[1;3mEnter number divided by:\u001b[0m 3456\n",
            "Here, divisor is 23.0 & divided by 3456.0,so the quotient is 150.2608695652174 and reminder is 6.0 .\n"
          ]
        }
      ]
    },
    {
      "cell_type": "code",
      "source": [
        "\"\"\"06_rolling_dice\"\"\"\n",
        "def rolling_dice():\n",
        "    dice_sides: int = 6\n",
        "    dice_1: int = random.randint(1, dice_sides)\n",
        "    dice_2: int = random.randint(1, dice_sides)\n",
        "    total: int = dice_1 + dice_2\n",
        "\n",
        "    print(f\"Dice have {dice_sides} sides each.\")\n",
        "    print(\"First die:\", dice_1)\n",
        "    print(\"Second die:\", dice_2)\n",
        "    print(\"Total of two dice:\", total)\n",
        "\n",
        "if __name__ == '__main__':\n",
        "    rolling_dice()\n"
      ],
      "metadata": {
        "colab": {
          "base_uri": "https://localhost:8080/"
        },
        "id": "KswihNTTCqG-",
        "outputId": "1778fc7f-6448-4cf3-ed08-f810a2a77efe"
      },
      "execution_count": 12,
      "outputs": [
        {
          "output_type": "stream",
          "name": "stdout",
          "text": [
            "Dice have 6 sides each.\n",
            "First die: 2\n",
            "Second die: 5\n",
            "Total of two dice: 7\n"
          ]
        }
      ]
    },
    {
      "cell_type": "code",
      "source": [
        "\"\"\"06_seconds_in_year.\"\"\"\n",
        "\n",
        "def seconds_in_year():\n",
        "  days_in_a_year = int(input(\"Enter the days in a year :\")) #normal year 365 ka hota hai or leap year 366 ka\n",
        "  hours_in_a_day =24\n",
        "  mint_in_an_hour = 60\n",
        "  second_in_a_mint = 60\n",
        "  second_in_a_year = days_in_a_year * hours_in_a_day * mint_in_an_hour * second_in_a_mint\n",
        "\n",
        "  print(f\"here is the total second in a year {second_in_a_year}\")\n",
        "if __name__ == '__main__':\n",
        "    seconds_in_year()"
      ],
      "metadata": {
        "id": "V6pKij_IRcNY"
      },
      "execution_count": null,
      "outputs": []
    },
    {
      "cell_type": "code",
      "source": [
        "\"\"\"07_tiny_mad_lib\"\"\"\n",
        "\n",
        "# Sentence beginning\n",
        "SENTENCE_START: str = \"Panaversity is fun. I learned to program and used Python to make my \"\n",
        "\n",
        "def main():\n",
        "    # Get the three inputs from the user\n",
        "    adjective: str = input(\"Please type an adjective and press enter. \")\n",
        "    noun: str = input(\"Please type a noun and press enter. \")\n",
        "    verb: str = input(\"Please type a verb and press enter. \")\n",
        "\n",
        "    print(SENTENCE_START + adjective + \" \" + noun + \" \" + verb + \"!\")\n",
        "\n",
        "if __name__ == '__main__':\n",
        "    main()"
      ],
      "metadata": {
        "id": "BF4faXTWS4ps"
      },
      "execution_count": null,
      "outputs": []
    }
  ]
}