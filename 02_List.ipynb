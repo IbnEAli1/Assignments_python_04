{
  "nbformat": 4,
  "nbformat_minor": 0,
  "metadata": {
    "colab": {
      "provenance": [],
      "authorship_tag": "ABX9TyMpIjmdiXT5w/gP5VBEphhV",
      "include_colab_link": true
    },
    "kernelspec": {
      "name": "python3",
      "display_name": "Python 3"
    },
    "language_info": {
      "name": "python"
    }
  },
  "cells": [
    {
      "cell_type": "markdown",
      "metadata": {
        "id": "view-in-github",
        "colab_type": "text"
      },
      "source": [
        "<a href=\"https://colab.research.google.com/github/IbnEAli1/Assignments_python_04/blob/main/02_List.ipynb\" target=\"_parent\"><img src=\"https://colab.research.google.com/assets/colab-badge.svg\" alt=\"Open In Colab\"/></a>"
      ]
    },
    {
      "cell_type": "code",
      "execution_count": 4,
      "metadata": {
        "id": "tLA2EYP2Merr",
        "colab": {
          "base_uri": "https://localhost:8080/"
        },
        "outputId": "e202e379-71b9-4ac2-d9a0-32ec00b2a801"
      },
      "outputs": [
        {
          "output_type": "stream",
          "name": "stdout",
          "text": [
            "15\n"
          ]
        }
      ],
      "source": [
        "\"\"\"01_add_many_number.\"\"\"\n",
        "def add(numbers):\n",
        "    sum = 0\n",
        "    for i in numbers:\n",
        "        sum += i   #sum = sum + i\n",
        "    print(sum)\n",
        "\n",
        "numbers = [1, 2, 3, 4, 5]\n",
        "\n",
        "if __name__ == '__main__':\n",
        "    add(numbers)"
      ]
    },
    {
      "cell_type": "code",
      "source": [
        "\"\"\"02_double_list\"\"\"\n",
        "def double(list_of_numbers):\n",
        "    for i in range(len(list_of_numbers)):\n",
        "        list_of_numbers[i] *= 2\n",
        "    print(list_of_numbers)\n",
        "\n",
        "if __name__ == '__main__':\n",
        "    numbers = [1, 2, 3, 4]\n",
        "    double(numbers)"
      ],
      "metadata": {
        "colab": {
          "base_uri": "https://localhost:8080/"
        },
        "id": "ImTrNe7s42Iz",
        "outputId": "e1b5d060-8c54-4cfd-e97c-139792555c2b"
      },
      "execution_count": 15,
      "outputs": [
        {
          "output_type": "stream",
          "name": "stdout",
          "text": [
            "[2, 4, 6, 8]\n"
          ]
        }
      ]
    },
    {
      "cell_type": "code",
      "source": [
        "\"\"\"03_erase_canvas\"\"\"\n",
        "\n",
        "import pygame\n",
        "import time\n",
        "\n",
        "pygame.init()\n",
        "\n",
        "CANVA_WIDTH = 400\n",
        "CANVA_HEIGHT = 400\n",
        "CELL_SIZE = 40\n",
        "ERASER_SIZE = 20\n",
        "\n",
        "BLUE = (0,0,225)\n",
        "WHITE = (225,225,225)\n",
        "PINK = (225,182,193)\n",
        "\n",
        "screen = pygame.display.set_mode((CANVA_WIDTH,CANVA_HEIGHT))\n",
        "pygame.display.set_caption(\"Enter effect in pygame\")\n",
        "\n",
        "grid = []\n",
        "for row in range(0,CANVA_HEIGHT,CELL_SIZE):\n",
        "    for col in range(0,CANVA_HEIGHT,CELL_SIZE):\n",
        "        rect = pygame.Rect(col,row,CELL_SIZE,CELL_SIZE)\n",
        "        grid.append(rect)\n",
        "\n",
        "eraser = pygame.Rect(200,200,ERASER_SIZE,ERASER_SIZE)\n",
        "\n",
        "running = True\n",
        "while running:\n",
        "    screen.fill(WHITE)\n",
        "\n",
        "    for rect in grid:\n",
        "        pygame.draw.rect(screen,BLUE, rect)\n",
        "\n",
        "    mouse_x , mouse_y = pygame.mouse.get_pos()\n",
        "    eraser.topleft = (mouse_x, mouse_y)\n",
        "\n",
        "    new_grid = []\n",
        "    for rect in grid:\n",
        "        if not eraser.colliderect(rect):\n",
        "            new_grid.append(rect)\n",
        "        grid = new_grid\n",
        "\n",
        "        pygame.draw.rect(screen,PINK,eraser)\n",
        "\n",
        "        for event in pygame.event.get():\n",
        "            if event.type == pygame.QUIT:\n",
        "                running = False\n",
        "\n",
        "        pygame.display.flip()\n",
        "        time.sleep(0.05)\n",
        "\n",
        "pygame.quit()"
      ],
      "metadata": {
        "colab": {
          "base_uri": "https://localhost:8080/"
        },
        "id": "oCbI9B1n8Js2",
        "outputId": "c2e4ee82-e136-4aae-dcef-82e81aad42e5"
      },
      "execution_count": null,
      "outputs": [
        {
          "output_type": "stream",
          "name": "stdout",
          "text": [
            "pygame 2.6.1 (SDL 2.28.4, Python 3.11.12)\n",
            "Hello from the pygame community. https://www.pygame.org/contribute.html\n"
          ]
        }
      ]
    },
    {
      "cell_type": "code",
      "source": [
        "\"\"\"04_flowing_data_with_structure\"\"\"\n",
        "\n",
        "def add_three_copies(list, data):\n",
        "    for i in range(3):\n",
        "        list.append(data)\n",
        "\n",
        "def main():\n",
        "    message = input(\"Enter a message to copy: \")\n",
        "    list = []\n",
        "    print(\"Before list:\",list)\n",
        "    add_three_copies(list, message)\n",
        "    print(\"After list:\",list)\n",
        "\n",
        "if __name__ == \"__main__\":\n",
        "    main()"
      ],
      "metadata": {
        "id": "_qRbx16S9eVO"
      },
      "execution_count": null,
      "outputs": []
    },
    {
      "cell_type": "code",
      "source": [
        "\"\"\"05_get_first_element\"\"\"\n",
        "\n",
        "def get_first_element(list):\n",
        "    print(list[0])\n",
        "\n",
        "def get_list():\n",
        "    list = []\n",
        "    elem: str = input(\"Please enter an element of the list or press enter to stop. \")\n",
        "    while elem != \"\":\n",
        "        list.append(elem)\n",
        "        elem = input(\"Please enter an element of the list or press enter to stop. \")\n",
        "    return list\n",
        "\n",
        "def main():\n",
        "    list = get_list()\n",
        "    get_first_element(list)\n",
        "\n",
        "\n",
        "if __name__ == '__main__':\n",
        "    main()"
      ],
      "metadata": {
        "id": "DDG4ZCZR97En"
      },
      "execution_count": null,
      "outputs": []
    },
    {
      "cell_type": "code",
      "source": [
        "\"\"\"06_get_last_element\"\"\"\n",
        "\n",
        "def get_first_element(list):\n",
        "    print(list[-1])\n",
        "\n",
        "def get_list():\n",
        "    list = []\n",
        "    elem: str = input(\"Please enter an element of the list or press enter to stop. \")\n",
        "    while elem != \"\":\n",
        "        list.append(elem)\n",
        "        elem = input(\"Please enter an element of the list or press enter to stop. \")\n",
        "    return list\n",
        "\n",
        "def main():\n",
        "    list = get_list()\n",
        "    get_first_element(list)\n",
        "\n",
        "\n",
        "if __name__ == '__main__':\n",
        "    main()"
      ],
      "metadata": {
        "id": "oI8FnyrH-ALj"
      },
      "execution_count": null,
      "outputs": []
    },
    {
      "cell_type": "code",
      "source": [
        "\"\"\"07_get_list.\"\"\"\"\n",
        "\n",
        "def get_first_element(list):\n",
        "    print(list)\n",
        "\n",
        "def get_list():\n",
        "    list = []\n",
        "    value: str = input(\"Enter a value: \")\n",
        "    while value != \"\":\n",
        "        list.append(value)\n",
        "        value = input(\"Enter a value: \")\n",
        "    return list\n",
        "\n",
        "def main():\n",
        "    list = get_list()\n",
        "    get_first_element(list)\n",
        "\n",
        "\n",
        "if __name__ == '__main__':\n",
        "    main()\n"
      ],
      "metadata": {
        "id": "tqQ8Ut8w-H73"
      },
      "execution_count": null,
      "outputs": []
    },
    {
      "cell_type": "code",
      "source": [
        "\"\"\"08_shorten\"\"\"\n",
        "\n",
        "max_length = 3\n",
        "\n",
        "def shorten(list):\n",
        "    while len(list) > max_length:\n",
        "        remove = list.pop()\n",
        "        print(remove)\n",
        "\n",
        "def get_list():\n",
        "    list = []\n",
        "    user_input = input(\"Enter a value: \")\n",
        "    while user_input != \"\":\n",
        "        list.append(user_input)\n",
        "        user_input = input(\"Enter a value: \")\n",
        "    return list\n",
        "\n",
        "def main():\n",
        "    list = get_list()\n",
        "    shorten(list)\n",
        "\n",
        "if __name__ == \"__main__\":\n",
        "    main()  # Brackets lagana mat bhoolna"
      ],
      "metadata": {
        "id": "jdRhJBYY-U4K"
      },
      "execution_count": null,
      "outputs": []
    }
  ]
}