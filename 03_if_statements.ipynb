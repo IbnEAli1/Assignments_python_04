{
  "nbformat": 4,
  "nbformat_minor": 0,
  "metadata": {
    "colab": {
      "provenance": [],
      "authorship_tag": "ABX9TyM9cEGQEz2xPmrzTYouGxZ5",
      "include_colab_link": true
    },
    "kernelspec": {
      "name": "python3",
      "display_name": "Python 3"
    },
    "language_info": {
      "name": "python"
    }
  },
  "cells": [
    {
      "cell_type": "markdown",
      "metadata": {
        "id": "view-in-github",
        "colab_type": "text"
      },
      "source": [
        "<a href=\"https://colab.research.google.com/github/IbnEAli1/Assignments_python_04/blob/main/03_if_statements.ipynb\" target=\"_parent\"><img src=\"https://colab.research.google.com/assets/colab-badge.svg\" alt=\"Open In Colab\"/></a>"
      ]
    },
    {
      "cell_type": "code",
      "execution_count": 3,
      "metadata": {
        "colab": {
          "base_uri": "https://localhost:8080/"
        },
        "id": "SB4yfcUZ-ysm",
        "outputId": "3aa9b992-62d0-4e13-8722-95160b26ac8c"
      },
      "outputs": [
        {
          "output_type": "stream",
          "name": "stdout",
          "text": [
            "0\n",
            "2\n",
            "4\n",
            "6\n",
            "8\n",
            "10\n",
            "12\n",
            "14\n",
            "16\n",
            "18\n",
            "20\n",
            "22\n",
            "24\n",
            "26\n",
            "28\n",
            "30\n",
            "32\n",
            "34\n",
            "36\n",
            "38\n"
          ]
        }
      ],
      "source": [
        "\"\"\"01_print_events\"\"\"\n",
        "\n",
        "def main():\n",
        "    for i in range(20):\n",
        "        print(i * 2)\n",
        "if __name__ == \"__main__\":\n",
        "    main()"
      ]
    },
    {
      "cell_type": "code",
      "source": [
        "\"\"\"02_international_voting_age\"\"\"\n",
        "\n",
        "Peturksbouipo = 16\n",
        "Stanlau = 25\n",
        "Mayengua = 45\n",
        "age = int(input(\"How old are you: \"))\n",
        "\n",
        "def main():\n",
        "    if age >= Peturksbouipo:\n",
        "        print(f\"Your age is {age}. You are eligible to vote in Peturksbouipo.\")\n",
        "    else:\n",
        "        print(f\"Your age is {age}. You are not eligible to vote in Peturksbouipo.\")\n",
        "\n",
        "    if age >= Stanlau:\n",
        "        print(f\"Your age is {age}. You are eligible to vote in Stanlau.\")\n",
        "    else:\n",
        "        print(f\"Your age is {age}. You are not eligible to vote in Stanlau.\")\n",
        "\n",
        "    if age >= Mayengua:\n",
        "        print(f\"Your age is {age}. You are eligible to vote in Mayengua.\")\n",
        "    else:\n",
        "        print(f\"Your age is {age}. You are not eligible to vote in Mayengua.\")\n",
        "\n",
        "if __name__ == \"__main__\":\n",
        "    main()"
      ],
      "metadata": {
        "colab": {
          "base_uri": "https://localhost:8080/"
        },
        "id": "5wH7eT91_Pji",
        "outputId": "9e6fd035-7205-450e-8a4f-7bf1cb901a4c"
      },
      "execution_count": 4,
      "outputs": [
        {
          "output_type": "stream",
          "name": "stdout",
          "text": [
            "How old are you: 34\n",
            "Your age is 34. You are eligible to vote in Peturksbouipo.\n",
            "Your age is 34. You are eligible to vote in Stanlau.\n",
            "Your age is 34. You are not eligible to vote in Mayengua.\n"
          ]
        }
      ]
    },
    {
      "cell_type": "code",
      "source": [
        "\"\"\"03_leap_year\"\"\"\n",
        "\n",
        "year = int(input(\"Enter a year\"))\n",
        "def main():\n",
        "    if (year % 4 == 0) and (year % 100 != 0) or (year % 400 == 0):\n",
        "      print(year, \" is a leap year\")\n",
        "    else:\n",
        "      print(year, \"is not a leap year\")"
      ],
      "metadata": {
        "id": "7Eu6eg1J_m3P"
      },
      "execution_count": null,
      "outputs": []
    },
    {
      "cell_type": "code",
      "source": [
        "\"\"\"04_tall_enough_to_ride\"\"\"\n",
        "\n",
        "\n",
        "minimum_height = 50\n",
        "user_height = int(input(\"How tall are you: \"))\n",
        "\n",
        "def main():\n",
        "    if user_height >= minimum_height:\n",
        "        print(\"You're tall enough to ride!\")\n",
        "    else:\n",
        "        print(\"You're not tall enough to ride, but maybe next year!\")\n",
        "\n",
        "if __name__ == \"__main__\":\n",
        "    main()"
      ],
      "metadata": {
        "colab": {
          "base_uri": "https://localhost:8080/"
        },
        "id": "PHAUJwlY_rLE",
        "outputId": "829defad-a93a-4b8b-8b84-4b7f45e348fb"
      },
      "execution_count": 6,
      "outputs": [
        {
          "output_type": "stream",
          "name": "stdout",
          "text": [
            "How tall are you: 5\n",
            "You're not tall enough to ride, but maybe next year!\n"
          ]
        }
      ]
    },
    {
      "cell_type": "code",
      "source": [
        "\"\"\"05_random_numbers\"\"\"\n",
        "\n",
        "import random\n",
        "\n",
        "def main():\n",
        "    for i in range(10):\n",
        "        random_numbers = random.randint(1, 100)\n",
        "        print(random_numbers, end=\" \")\n",
        "\n",
        "if __name__ == \"__main__\":\n",
        "    main()"
      ],
      "metadata": {
        "colab": {
          "base_uri": "https://localhost:8080/"
        },
        "id": "ypdhTJo1_-OZ",
        "outputId": "056a4014-63e2-416b-dc67-0a0c2ad6adf1"
      },
      "execution_count": 8,
      "outputs": [
        {
          "output_type": "stream",
          "name": "stdout",
          "text": [
            "87 37 32 16 53 16 85 78 82 35 "
          ]
        }
      ]
    }
  ]
}